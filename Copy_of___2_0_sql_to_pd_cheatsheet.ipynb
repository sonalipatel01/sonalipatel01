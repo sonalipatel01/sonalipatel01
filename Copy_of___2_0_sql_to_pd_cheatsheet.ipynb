{
  "nbformat": 4,
  "nbformat_minor": 0,
  "metadata": {
    "colab": {
      "provenance": [],
      "include_colab_link": true
    },
    "kernelspec": {
      "name": "python3",
      "display_name": "Python 3"
    },
    "language_info": {
      "name": "python"
    }
  },
  "cells": [
    {
      "cell_type": "markdown",
      "metadata": {
        "id": "view-in-github",
        "colab_type": "text"
      },
      "source": [
        "<a href=\"https://colab.research.google.com/github/sonalipatel01/sonalipatel01/blob/main/Copy_of___2_0_sql_to_pd_cheatsheet.ipynb\" target=\"_parent\"><img src=\"https://colab.research.google.com/assets/colab-badge.svg\" alt=\"Open In Colab\"/></a>"
      ]
    },
    {
      "cell_type": "markdown",
      "source": [
        "# From SQL to pandas Cheatsheet\n"
      ],
      "metadata": {
        "id": "2LrPpwvS-V_5"
      }
    },
    {
      "cell_type": "markdown",
      "source": [
        "## 1.&nbsp; `SELECT` — `df[]`\n",
        "\n",
        "SQL:\n",
        "\n",
        "```sql\n",
        "-- select all columns\n",
        "SELECT * FROM table;\n",
        "-- select specific columns\n",
        "SELECT Name, Age FROM table;\n",
        "```\n",
        "\n",
        "pandas:\n",
        "\n",
        "```python\n",
        "df\n",
        "df[[\"Name\", \"Age\"]]\n",
        "```"
      ],
      "metadata": {
        "id": "SBpZEyAv-pqJ"
      }
    },
    {
      "cell_type": "markdown",
      "source": [
        "## 2.&nbsp; `LIMIT` — `.head()`\n",
        "\n",
        "SQL:\n",
        "\n",
        "```sql\n",
        "-- select first 10 rows\n",
        "SELECT * FROM table LIMIT 10;\n",
        "```\n",
        "\n",
        "pandas:\n",
        "\n",
        "```python\n",
        "df.head(10)\n",
        "```"
      ],
      "metadata": {
        "id": "o1CVniQ6-uMr"
      }
    },
    {
      "cell_type": "markdown",
      "source": [
        "## 3.&nbsp; `DISTINCT` — `.unique()`\n",
        "\n",
        "SQL:\n",
        "\n",
        "```sql\n",
        "-- select all distinct countries\n",
        "SELECT DISTINCT Country FROM table;\n",
        "```\n",
        "\n",
        "pandas:\n",
        "\n",
        "```python\n",
        "df[\"Country\"].unique()\n",
        "```"
      ],
      "metadata": {
        "id": "j-kmy6PR-y2R"
      }
    },
    {
      "cell_type": "markdown",
      "source": [
        "## 4.&nbsp; `WHERE` — `[]`\n",
        "\n",
        "SQL:\n",
        "\n",
        "```sql\n",
        "-- select all columns where age is greater than 30\n",
        "SELECT * FROM table WHERE Age > 30;\n",
        "\n",
        "-- select all columns where country is USA\n",
        "SELECT * FROM table WHERE Country = 'USA';\n",
        "```\n",
        "\n",
        "pandas:\n",
        "\n",
        "```python\n",
        "df[df[\"Age\"] > 30]\n",
        "df[df[\"Country\"] == \"USA\"]\n",
        "```"
      ],
      "metadata": {
        "id": "RO16WCTV-4Ra"
      }
    },
    {
      "cell_type": "markdown",
      "source": [
        "## 5.&nbsp; `IN` — `.isin()`\n",
        "\n",
        "SQL:\n",
        "\n",
        "```sql\n",
        "-- select all rows where country is USA or Canada\n",
        "SELECT * FROM table WHERE Country IN ('USA', 'Canada');\n",
        "```\n",
        "\n",
        "# pandas:\n",
        "\n",
        "```python\n",
        "df[df[\"Country\"].isin([\"USA\", \"Canada\"])]\n",
        "```"
      ],
      "metadata": {
        "id": "hk9T-zTc-9LM"
      }
    },
    {
      "cell_type": "markdown",
      "source": [
        "## 6.&nbsp; `NOT IN` — `~`\n",
        "\n",
        "SQL:\n",
        "\n",
        "```sql\n",
        "-- select all rows where country is not USA or Canada\n",
        "SELECT * FROM table WHERE Country NOT IN ('USA', 'Canada');\n",
        "```\n",
        "\n",
        "pandas:\n",
        "\n",
        "```python\n",
        "df[~df[\"Country\"].isin([\"USA\", \"Canada\"])]\n",
        "```"
      ],
      "metadata": {
        "id": "KABKs7O__IYU"
      }
    },
    {
      "cell_type": "markdown",
      "source": [
        "## 7.&nbsp; `LIKE` — `.str.contains()`\n",
        "\n",
        "SQL:\n",
        "\n",
        "```sql\n",
        "# select all rows where name contains John\n",
        "SELECT * FROM table WHERE Name LIKE '%John%';\n",
        "```\n",
        "\n",
        "pandas:\n",
        "\n",
        "```python\n",
        "df[df[\"Name\"].str.contains(\"John\")]\n",
        "```"
      ],
      "metadata": {
        "id": "Qt2WzIA-_OEU"
      }
    },
    {
      "cell_type": "markdown",
      "source": [
        "Similar to `LIKE`, there's also an option to include symbols with special meaning in `str.contains`. pandas utilizes the enormously powerful \"regular expressions\" - `regex` - for this.\n",
        "\n",
        "Here's a short list of symbols to start out:\n",
        "\n",
        "- `^` matches the start of the string. (`'^A'` is equivalent to SQL `'A%'`)\n",
        "- `$` matches the end of the string. (`'z$'` is equivalent to SQL `'%z'`)\n",
        "- `.` is a wildcard symbol that represents a single character, similar to SQL `_`.\n",
        "\n",
        "```python\n",
        "(\n",
        "stores\n",
        "    # Find cities that have 'e' as the second letter.\n",
        "    .loc[stores['city'].str.contains('^.e', regex = True)]\n",
        ")\n",
        "```\n",
        "\n",
        "If you ever need to include one of these symbols as part of the string, you can use `'\\'` to \"escape\" the next character so it will lose its special meaning.\n",
        "\n",
        "```py\n",
        ".str.contains('Mr.', regex = True)\n",
        "```\n",
        "will find both 'Mr.' and 'Mrs', because of the wildcard symbol `'.'`.\n",
        "\n",
        "```py\n",
        ".str.contains('Mr\\.', regex = True)\n",
        "```\n",
        "will only find 'Mr.' because the '.' was escaped and lost its wildcard meaning."
      ],
      "metadata": {
        "id": "KOa-JfsC9Whb"
      }
    },
    {
      "cell_type": "markdown",
      "source": [
        "## 8.&nbsp; `BETWEEN` — `&`\n",
        "\n",
        "SQL:\n",
        "\n",
        "```sql\n",
        "-- select all rows where age is between 18 and 30\n",
        "SELECT * FROM table WHERE Age BETWEEN 18 AND 30;\n",
        "```\n",
        "\n",
        "pandas:\n",
        "\n",
        "```python\n",
        "df[df[\"Age\"].between(18,30)]\n",
        "```"
      ],
      "metadata": {
        "id": "Kqe01fEJ_XBl"
      }
    },
    {
      "cell_type": "markdown",
      "source": [
        "## 9.&nbsp; AND — `&`\n",
        "SQL:\n",
        "\n",
        "```sql\n",
        "-- select all rows where country is USA and age is greater than 30\n",
        "SELECT * FROM table WHERE Country = 'USA' AND Age > 30;\n",
        "```\n",
        "\n",
        "pandas:\n",
        "\n",
        "```python\n",
        "df[(df[\"Country\"] == \"USA\") & (df[\"Age\"] > 30)]\n",
        "```"
      ],
      "metadata": {
        "id": "I5Gs6caK_cTv"
      }
    },
    {
      "cell_type": "markdown",
      "source": [
        "## 10.&nbsp; `OR` — `|`\n",
        "\n",
        "SQL:\n",
        "\n",
        "```sql\n",
        "-- select all rows where country is USA or Canada\n",
        "SELECT * FROM table WHERE Country = 'USA' OR Country = 'Canada';\n",
        "```\n",
        "\n",
        "pandas:\n",
        "\n",
        "```python\n",
        "df[(df[\"Country\"] == \"USA\") | (df[\"Country\"] == \"Canada\")]\n",
        "```"
      ],
      "metadata": {
        "id": "snjhCPx1_gln"
      }
    },
    {
      "cell_type": "markdown",
      "source": [
        "## 11.&nbsp; `ORDER BY` — `.sort_values()`\n",
        "\n",
        "SQL:\n",
        "\n",
        "```sql\n",
        "-- order by age ascending\n",
        "SELECT * FROM table ORDER BY Age ASC;\n",
        "-- order by age descending\n",
        "SELECT * FROM table ORDER BY Age DESC;\n",
        "```\n",
        "\n",
        "pandas:\n",
        "\n",
        "```python\n",
        "df.sort_values(by=\"Age\")\n",
        "df.sort_values(by=\"Age\", ascending=False)\n",
        "```"
      ],
      "metadata": {
        "id": "YnxLpCDl_k7n"
      }
    },
    {
      "cell_type": "markdown",
      "source": [
        "## 12.&nbsp; `GROUP BY` — `.groupby()`\n",
        "\n",
        "SQL:\n",
        "\n",
        "```sql\n",
        "-- select country and average age, grouped by country\n",
        "SELECT Country, AVG(Age) FROM table GROUP BY Country;\n",
        "-- select country, city and average age, grouped by country and city\n",
        "SELECT Country, City, AVG(Age) FROM table GROUP BY Country, City;\n",
        "```\n",
        "\n",
        "pandas:\n",
        "\n",
        "```python\n",
        "df.groupby(\"Country\").agg({\"Age\": \"mean\"})\n",
        "df.groupby([\"Country\", \"City\"]).agg({\"Age\": \"mean\"})\n",
        "```"
      ],
      "metadata": {
        "id": "DGYn98CF_o55"
      }
    },
    {
      "cell_type": "markdown",
      "source": [
        "## 13.&nbsp; `AS` — `.rename()`\n",
        "\n",
        "SQL:\n",
        "\n",
        "```sql\n",
        "-- rename column as Total\n",
        "SELECT COUNT(*) AS 'Total' FROM table;\n",
        "```\n",
        "\n",
        "pandas:\n",
        "\n",
        "```python\n",
        "df.rename(columns={\"COUNT(*)\": \"Total\"})\n",
        "```"
      ],
      "metadata": {
        "id": "hvHDgbWH_tUv"
      }
    },
    {
      "cell_type": "markdown",
      "source": [
        "## 14.&nbsp; `JOIN` — `.merge()`\n",
        "\n",
        "SQL:\n",
        "\n",
        "```sql\n",
        "# select all columns from both tables, where id is the same\n",
        "SELECT t1.*, t2.* FROM table1 t1 INNER JOIN table2 t2 ON t1.id = t2.id;\n",
        "```\n",
        "\n",
        "pandas:\n",
        "\n",
        "```python\n",
        "pd.merge(table1, table2, on=\"id\", how=\"inner\")\n",
        "```"
      ],
      "metadata": {
        "id": "7DbkTTyU_xHG"
      }
    },
    {
      "cell_type": "markdown",
      "source": [
        "## 15.&nbsp; Some math operations\n",
        "\n",
        "In SQL, you can use the `SUM()`, `AVG()`, `MIN()`, `MAX()` and `COUNT()` functions to perform aggregations.\n",
        "\n",
        "```sql\n",
        "SELECT SUM(qty), AVG(qty), MIN(qty), MAX(qty), COUNT(qty)\n",
        "FROM sales;\n",
        "```\n",
        "\n",
        "In pandas, you can use the `DataFrame.sum()`, `DataFrame.mean()`, `DataFrame.min()`, `DataFrame.max()`, and `DataFrame.count()` methods to perform aggregations.\n",
        "\n",
        "```python\n",
        "(\n",
        "sales\n",
        "    [['qty']] # select the quantity column\n",
        "    .agg(['sum', 'mean', 'min', 'max', 'count']) # aggregate the data\n",
        ")\n",
        "```"
      ],
      "metadata": {
        "id": "T-KFCh2h82FP"
      }
    },
    {
      "cell_type": "code",
      "source": [],
      "metadata": {
        "id": "C9zcPdhE9GN_"
      },
      "execution_count": null,
      "outputs": []
    },
    {
      "cell_type": "code",
      "source": [],
      "metadata": {
        "id": "j8x32lSx9AYK"
      },
      "execution_count": null,
      "outputs": []
    }
  ]
}